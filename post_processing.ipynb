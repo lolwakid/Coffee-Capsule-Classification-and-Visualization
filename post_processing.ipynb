{
 "cells": [
  {
   "cell_type": "code",
   "execution_count": 1,
   "id": "0c77dd48",
   "metadata": {},
   "outputs": [],
   "source": [
    "import csv\n",
    "import glob\n",
    "\n",
    "column_names = ['label','x_center','y_center', 'width', 'height'] #Assigning Column Header\n",
    "#converting all txt files of 05_items to csv file.\n",
    "with open(\"05_labels.csv\", 'w', newline='') as target:\n",
    "    writer = csv.DictWriter(target, fieldnames=column_names)\n",
    "    writer.writeheader() # if you want a header\n",
    "    for path in glob.glob(\"labels/5/*.txt\"):\n",
    "        with open(path, newline='') as source:\n",
    "            reader = csv.DictReader(source, delimiter=' ', fieldnames=column_names)\n",
    "            writer.writerows(reader)"
   ]
  },
  {
   "cell_type": "code",
   "execution_count": 3,
   "id": "9bbdb436",
   "metadata": {},
   "outputs": [],
   "source": [
    "#our labels are as follows: '0:altissio', '1:alto_dolce', '2:bianco_leggero', '3:chiaro', '4:diavolito', '5:lid', '6:scuro', '7:voltesso'"
   ]
  },
  {
   "cell_type": "code",
   "execution_count": 5,
   "id": "5b1ba808",
   "metadata": {},
   "outputs": [
    {
     "name": "stdout",
     "output_type": "stream",
     "text": [
      "[7 5 0 2 1 4]\n"
     ]
    }
   ],
   "source": [
    "import pandas as pd\n",
    "five = pd.read_csv(\"05_labels.csv\")\n",
    "print(five.label.unique())"
   ]
  }
 ],
 "metadata": {
  "kernelspec": {
   "display_name": "Python 3",
   "language": "python",
   "name": "python3"
  },
  "language_info": {
   "codemirror_mode": {
    "name": "ipython",
    "version": 3
   },
   "file_extension": ".py",
   "mimetype": "text/x-python",
   "name": "python",
   "nbconvert_exporter": "python",
   "pygments_lexer": "ipython3",
   "version": "3.8.8"
  }
 },
 "nbformat": 4,
 "nbformat_minor": 5
}